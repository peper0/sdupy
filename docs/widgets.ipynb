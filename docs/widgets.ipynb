{
 "cells": [
  {
   "cell_type": "markdown",
   "source": [
    "# Widgets"
   ],
   "metadata": {
    "collapsed": false
   }
  },
  {
   "cell_type": "markdown",
   "source": [
    "Most widgets are defined in `sdupy.vis` module.   "
   ],
   "metadata": {
    "collapsed": false
   }
  },
  {
   "cell_type": "code",
   "execution_count": 1,
   "metadata": {
    "collapsed": true,
    "ExecuteTime": {
     "end_time": "2023-10-24T14:13:24.545837232Z",
     "start_time": "2023-10-24T14:13:24.073254985Z"
    }
   },
   "outputs": [
    {
     "name": "stdout",
     "output_type": "stream",
     "text": [
      "running asyncio event loop detected\n"
     ]
    },
    {
     "name": "stderr",
     "output_type": "stream",
     "text": [
      "qt.qpa.xcb: X server does not support XInput 2\n"
     ]
    }
   ],
   "source": [
    "\n",
    "\n",
    "import sdupy"
   ]
  },
  {
   "cell_type": "code",
   "execution_count": 2,
   "outputs": [
    {
     "name": "stderr",
     "output_type": "stream",
     "text": [
      "qt.qpa.xcb: QXcbConnection: XCB error: 1 (BadRequest), sequence: 169, resource id: 161, major code: 130 (Unknown), minor code: 47\n"
     ]
    }
   ],
   "source": [
    "from sdupy import vis"
   ],
   "metadata": {
    "collapsed": false,
    "ExecuteTime": {
     "end_time": "2023-10-24T14:13:24.616489790Z",
     "start_time": "2023-10-24T14:13:24.542976965Z"
    }
   }
  },
  {
   "cell_type": "markdown",
   "source": [
    "It is a good idea to create a window with an unique name. This allows saving the window state."
   ],
   "metadata": {
    "collapsed": false
   }
  },
  {
   "cell_type": "code",
   "execution_count": 3,
   "outputs": [],
   "source": [
    "win = sdupy.window(\"sdupy widgets\")"
   ],
   "metadata": {
    "collapsed": false,
    "ExecuteTime": {
     "end_time": "2023-10-24T14:13:25.017450561Z",
     "start_time": "2023-10-24T14:13:24.915570535Z"
    }
   }
  },
  {
   "cell_type": "markdown",
   "source": [
    "## Simple input widgets"
   ],
   "metadata": {
    "collapsed": false
   }
  },
  {
   "cell_type": "markdown",
   "source": [
    "### Slider"
   ],
   "metadata": {
    "collapsed": false
   }
  },
  {
   "cell_type": "code",
   "execution_count": 18,
   "outputs": [],
   "source": [
    "a_max = vis.slider(\"a_max\", min=0, max=100, value=10)\n",
    "a = vis.slider(\"a\", min=0, max=a_max, step=2)"
   ],
   "metadata": {
    "collapsed": false,
    "ExecuteTime": {
     "end_time": "2023-10-24T14:26:56.649965718Z",
     "start_time": "2023-10-24T14:26:56.647264883Z"
    }
   }
  },
  {
   "cell_type": "markdown",
   "source": [
    "### Combo box"
   ],
   "metadata": {
    "collapsed": false
   }
  },
  {
   "cell_type": "code",
   "execution_count": 19,
   "outputs": [
    {
     "name": "stdout",
     "output_type": "stream",
     "text": [
      "setting choices to ['red', 'green', 'blue']\n",
      "setting to  0\n"
     ]
    }
   ],
   "source": [
    "color = vis.combo(\"color\", choices=[\"red\", \"green\", \"blue\"])"
   ],
   "metadata": {
    "collapsed": false,
    "ExecuteTime": {
     "end_time": "2023-10-24T14:26:57.478303277Z",
     "start_time": "2023-10-24T14:26:57.470949636Z"
    }
   }
  },
  {
   "cell_type": "markdown",
   "source": [
    "### Checkbox"
   ],
   "metadata": {
    "collapsed": false
   }
  },
  {
   "cell_type": "code",
   "execution_count": 20,
   "outputs": [],
   "source": [
    "b = vis.checkbox(\"b\")"
   ],
   "metadata": {
    "collapsed": false,
    "ExecuteTime": {
     "end_time": "2023-10-24T14:26:58.691382126Z",
     "start_time": "2023-10-24T14:26:58.685029748Z"
    }
   }
  },
  {
   "cell_type": "markdown",
   "source": [
    "### Table"
   ],
   "metadata": {
    "collapsed": false
   }
  },
  {
   "cell_type": "code",
   "execution_count": 7,
   "outputs": [
    {
     "data": {
      "text/plain": "Wrapped('red')"
     },
     "execution_count": 7,
     "metadata": {},
     "output_type": "execute_result"
    }
   ],
   "source": [
    "vis.var_in_table(\"values\", \"a\", a)\n",
    "vis.var_in_table(\"values\", \"b\", b)\n",
    "vis.var_in_table(\"values\", \"color\", color)"
   ],
   "metadata": {
    "collapsed": false,
    "ExecuteTime": {
     "end_time": "2023-10-24T14:13:27.682607745Z",
     "start_time": "2023-10-24T14:13:27.576521105Z"
    }
   }
  },
  {
   "cell_type": "markdown",
   "source": [
    "## ParamTree"
   ],
   "metadata": {
    "collapsed": false
   }
  },
  {
   "cell_type": "markdown",
   "source": [
    "### Variables"
   ],
   "metadata": {
    "collapsed": false
   }
  },
  {
   "cell_type": "code",
   "execution_count": 8,
   "outputs": [],
   "source": [
    "aa = vis.float_in_paramtree(\"parameters\", [\"first\", \"aa\"])\n",
    "bb = vis.checkbox_in_paramtree(\"parameters\", [\"first\", \"bb\"])\n",
    "choices = vis.text_in_paramtree(\"parameters\", [\"config\", \"choices\"], multiline=True)\n",
    "combo = vis.combo_in_paramtree(\"parameters\", [\"first\", \"combo\"], choices=(choices + \"\").split('\\n'))"
   ],
   "metadata": {
    "collapsed": false,
    "ExecuteTime": {
     "end_time": "2023-10-24T14:13:28.182037347Z",
     "start_time": "2023-10-24T14:13:28.154015842Z"
    }
   }
  },
  {
   "cell_type": "markdown",
   "source": [
    "### Actions"
   ],
   "metadata": {
    "collapsed": false
   }
  },
  {
   "cell_type": "code",
   "execution_count": 9,
   "outputs": [],
   "source": [
    "action1 = vis.action_in_paramtree(\"parameters\", [\"explode\"], lambda: win.setWindowTitle(\"Boom!\"))"
   ],
   "metadata": {
    "collapsed": false,
    "ExecuteTime": {
     "end_time": "2023-10-24T14:13:29.134937231Z",
     "start_time": "2023-10-24T14:13:29.125468295Z"
    }
   }
  },
  {
   "cell_type": "code",
   "execution_count": 11,
   "outputs": [],
   "source": [
    "import asyncio\n",
    "\n",
    "\n",
    "async def blow_up_safely(checkpoint):\n",
    "    time = 30\n",
    "    for i in range(time):\n",
    "        await asyncio.sleep(0.1)\n",
    "        await checkpoint(i / time, \"blowing up safely\")\n",
    "    win.setWindowTitle(\"BOOM!\")\n",
    "\n",
    "\n",
    "action2 = vis.task_in_paramtree(\"parameters\", [\"blow up safely\"], blow_up_safely)"
   ],
   "metadata": {
    "collapsed": false,
    "ExecuteTime": {
     "end_time": "2023-10-24T14:14:06.246184754Z",
     "start_time": "2023-10-24T14:14:06.233373734Z"
    }
   }
  },
  {
   "cell_type": "code",
   "execution_count": 17,
   "outputs": [],
   "source": [
    "@vis.decor_task_in_paramtree(\"parameters\", [\"clean up\"])\n",
    "def cleanup(_):\n",
    "    win.setWindowTitle(\"SduPy window\")"
   ],
   "metadata": {
    "collapsed": false,
    "ExecuteTime": {
     "end_time": "2023-10-24T14:20:29.228317142Z",
     "start_time": "2023-10-24T14:20:29.211289878Z"
    }
   }
  },
  {
   "cell_type": "markdown",
   "source": [
    "## Plotting"
   ],
   "metadata": {
    "collapsed": false
   }
  },
  {
   "cell_type": "code",
   "execution_count": 32,
   "outputs": [],
   "source": [
    "import numpy as np\n",
    "\n",
    "x = np.linspace(0, 2 * np.pi, 100)\n",
    "y = a * np.sin(x)"
   ],
   "metadata": {
    "collapsed": false,
    "ExecuteTime": {
     "end_time": "2023-10-24T14:43:03.653669716Z",
     "start_time": "2023-10-24T14:43:03.606225800Z"
    }
   }
  },
  {
   "cell_type": "markdown",
   "source": [
    "### Matplotlib\n",
    "\n",
    "Arguments are passed to the [matplotlib.axes.Axes.plot](https://matplotlib.org/stable/api/_as_gen/matplotlib.axes.Axes.plot.html) function."
   ],
   "metadata": {
    "collapsed": false
   }
  },
  {
   "cell_type": "code",
   "execution_count": 33,
   "outputs": [],
   "source": [
    "vis.plot_mpl(\"plot_mpl\", x, y)"
   ],
   "metadata": {
    "collapsed": false,
    "ExecuteTime": {
     "end_time": "2023-10-24T14:43:04.323774994Z",
     "start_time": "2023-10-24T14:43:04.272553556Z"
    }
   }
  },
  {
   "cell_type": "markdown",
   "source": [
    "Use `plot_fn` parameter to use another plotting function, e.g.:"
   ],
   "metadata": {
    "collapsed": false
   }
  },
  {
   "cell_type": "code",
   "execution_count": 34,
   "outputs": [],
   "source": [
    "vis.plot_mpl(\"plot_mpl_fill\", x, y, x , -y, plot_fn=\"fill\")"
   ],
   "metadata": {
    "collapsed": false,
    "ExecuteTime": {
     "end_time": "2023-10-24T14:43:04.970721323Z",
     "start_time": "2023-10-24T14:43:04.904872269Z"
    }
   }
  },
  {
   "cell_type": "markdown",
   "source": [
    "### PyQtGraph\n",
    "\n",
    "Arguments are passed to the [pyqtgraph.PlotDataItem.setData](https://pyqtgraph.readthedocs.io/en/latest/api_reference/graphicsItems/plotitem.html#pyqtgraph.PlotItem.plot) function."
   ],
   "metadata": {
    "collapsed": false
   }
  },
  {
   "cell_type": "code",
   "execution_count": 35,
   "outputs": [
    {
     "data": {
      "text/plain": "Wrapped(<pyqtgraph.graphicsItems.PlotDataItem.PlotDataItem object at 0x7fa65535b7f0>)"
     },
     "execution_count": 35,
     "metadata": {},
     "output_type": "execute_result"
    }
   ],
   "source": [
    "vis.plot_pg(\"plot_pg\", x=x, y=y)"
   ],
   "metadata": {
    "collapsed": false,
    "ExecuteTime": {
     "end_time": "2023-10-24T14:43:06.192191937Z",
     "start_time": "2023-10-24T14:43:06.184912845Z"
    }
   }
  },
  {
   "cell_type": "markdown",
   "source": [
    "## Image\n",
    "\n",
    "Both matplotlib and PyQtGraph are supported. For PyQtGraph, there is an additional `image_pg_adv` function that shows also the histogram, allows to change the color map and many other things."
   ],
   "metadata": {
    "collapsed": false
   }
  },
  {
   "cell_type": "code",
   "execution_count": 36,
   "outputs": [],
   "source": [
    "image = np.random.rand(100, 100)\n",
    "vis.image_mpl(\"image_mpl\", image)\n",
    "vis.image_pg(\"image_pg\", image)\n",
    "vis.image_pg_adv(\"image_pg_adv\", image)"
   ],
   "metadata": {
    "collapsed": false,
    "ExecuteTime": {
     "end_time": "2023-10-24T14:45:28.168847580Z",
     "start_time": "2023-10-24T14:45:28.136724752Z"
    }
   }
  }
 ],
 "metadata": {
  "kernelspec": {
   "display_name": "Python 3",
   "language": "python",
   "name": "python3"
  },
  "language_info": {
   "codemirror_mode": {
    "name": "ipython",
    "version": 3
   },
   "file_extension": ".py",
   "mimetype": "text/x-python",
   "name": "python",
   "nbconvert_exporter": "python",
   "pygments_lexer": "ipython3",
   "version": "3.5.2"
  }
 },
 "nbformat": 4,
 "nbformat_minor": 1
}
