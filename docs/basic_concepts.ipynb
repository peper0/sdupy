{
 "cells": [
  {
   "cell_type": "markdown",
   "source": [
    "# Basic concepts"
   ],
   "metadata": {
    "collapsed": false
   }
  },
  {
   "cell_type": "markdown",
   "source": [
    "## Basics"
   ],
   "metadata": {
    "collapsed": false
   }
  },
  {
   "cell_type": "markdown",
   "source": [
    "When `sdupy` is imported, it automatically installs itself in the event loop of the environment (jupyter and ipython are currently supported). It there was no mainloop existing, `run_mainloop` would need to be called at the end.  "
   ],
   "metadata": {
    "collapsed": false
   }
  },
  {
   "cell_type": "code",
   "execution_count": 1,
   "metadata": {
    "collapsed": true,
    "ExecuteTime": {
     "end_time": "2023-10-19T15:56:30.832847092Z",
     "start_time": "2023-10-19T15:56:30.306863362Z"
    }
   },
   "outputs": [
    {
     "name": "stderr",
     "output_type": "stream",
     "text": [
      "qt.qpa.xcb: X server does not support XInput 2\n"
     ]
    },
    {
     "name": "stdout",
     "output_type": "stream",
     "text": [
      "jupyter python kernel detected\n",
      "registering jupyter gui integration...\n"
     ]
    }
   ],
   "source": [
    "import sdupy"
   ]
  },
  {
   "cell_type": "markdown",
   "source": [
    "The fundamental thing is `sdupy.Var`. It can contain any value and it can be observed for changes."
   ],
   "metadata": {
    "collapsed": false
   }
  },
  {
   "cell_type": "code",
   "execution_count": 2,
   "outputs": [
    {
     "name": "stdout",
     "output_type": "stream",
     "text": [
      "<class 'sdupy.pyreactive.var.Var'> Var(4)\n"
     ]
    }
   ],
   "source": [
    "v = sdupy.var(4)\n",
    "print(type(v), v)"
   ],
   "metadata": {
    "collapsed": false,
    "ExecuteTime": {
     "end_time": "2023-10-19T15:56:32.443139491Z",
     "start_time": "2023-10-19T15:56:32.440217779Z"
    }
   }
  },
  {
   "cell_type": "markdown",
   "source": [
    "It has most operators overloaded, so any operaions on it will return a new `Var`-like object with the result."
   ],
   "metadata": {
    "collapsed": false
   }
  },
  {
   "cell_type": "code",
   "execution_count": 3,
   "outputs": [
    {
     "name": "stdout",
     "output_type": "stream",
     "text": [
      "<class 'sdupy.pyreactive.var.SyncReactiveProxy'> 5\n"
     ]
    }
   ],
   "source": [
    "v_plus_1 = v + 1\n",
    "print(type(v_plus_1), v_plus_1)"
   ],
   "metadata": {
    "collapsed": false,
    "ExecuteTime": {
     "end_time": "2023-10-19T15:56:33.550674216Z",
     "start_time": "2023-10-19T15:56:33.459795341Z"
    }
   }
  },
  {
   "cell_type": "markdown",
   "source": [
    "A variable can be set to a new value:"
   ],
   "metadata": {
    "collapsed": false
   }
  },
  {
   "cell_type": "code",
   "execution_count": 4,
   "outputs": [],
   "source": [
    "v.set(3)"
   ],
   "metadata": {
    "collapsed": false,
    "ExecuteTime": {
     "end_time": "2023-10-19T15:56:34.029455595Z",
     "start_time": "2023-10-19T15:56:34.026620594Z"
    }
   }
  },
  {
   "cell_type": "markdown",
   "source": [
    "Depentent variables will be recomputed:"
   ],
   "metadata": {
    "collapsed": false
   }
  },
  {
   "cell_type": "code",
   "execution_count": 5,
   "outputs": [
    {
     "name": "stdout",
     "output_type": "stream",
     "text": [
      "4\n"
     ]
    }
   ],
   "source": [
    "print(v_plus_1)"
   ],
   "metadata": {
    "collapsed": false,
    "ExecuteTime": {
     "end_time": "2023-10-19T15:56:34.429952149Z",
     "start_time": "2023-10-19T15:56:34.421910974Z"
    }
   }
  },
  {
   "cell_type": "markdown",
   "source": [
    "Operations more complicated than calling a method or operator can be done using `reactive` decorator:"
   ],
   "metadata": {
    "collapsed": false
   }
  },
  {
   "cell_type": "code",
   "execution_count": 6,
   "outputs": [
    {
     "name": "stdout",
     "output_type": "stream",
     "text": [
      "proceesing\n",
      "[0, 1, 4]\n"
     ]
    }
   ],
   "source": [
    "@sdupy.reactive\n",
    "def make_seq(v):\n",
    "    print(\"proceesing\")\n",
    "    return [i**2 for i in range(v)]\n",
    "\n",
    "seq = make_seq(v)\n",
    "print(seq)"
   ],
   "metadata": {
    "collapsed": false,
    "ExecuteTime": {
     "end_time": "2023-10-19T15:56:34.941674934Z",
     "start_time": "2023-10-19T15:56:34.900555118Z"
    }
   }
  },
  {
   "cell_type": "markdown",
   "source": [
    "Existing functions can be wrapped using `reactive` decorator:"
   ],
   "metadata": {
    "collapsed": false
   }
  },
  {
   "cell_type": "code",
   "execution_count": 7,
   "outputs": [
    {
     "name": "stdout",
     "output_type": "stream",
     "text": [
      "5\n"
     ]
    }
   ],
   "source": [
    "range_seq = sdupy.reactive(sum)(seq)\n",
    "print(range_seq)"
   ],
   "metadata": {
    "collapsed": false,
    "ExecuteTime": {
     "end_time": "2023-10-19T15:56:35.944760092Z",
     "start_time": "2023-10-19T15:56:35.932395559Z"
    }
   }
  },
  {
   "cell_type": "markdown",
   "source": [
    "## Advanced topics"
   ],
   "metadata": {
    "collapsed": false
   }
  },
  {
   "cell_type": "markdown",
   "source": [
    "### Synchronization with update\n",
    "Normally, values are updated in the event loop. However, in the asynchronous environmnent (see [asyncio](https://docs.python.org/3/library/asyncio.html) ) you can force to wait for the update. "
   ],
   "metadata": {
    "collapsed": false
   }
  },
  {
   "cell_type": "code",
   "execution_count": 8,
   "outputs": [
    {
     "name": "stdout",
     "output_type": "stream",
     "text": [
      "3\n"
     ]
    }
   ],
   "source": [
    "v.set(2)\n",
    "await sdupy.pyreactive.wait_for_var()\n",
    "print(v_plus_1)"
   ],
   "metadata": {
    "collapsed": false,
    "ExecuteTime": {
     "end_time": "2023-10-19T15:56:37.638712413Z",
     "start_time": "2023-10-19T15:56:37.625131422Z"
    }
   }
  },
  {
   "cell_type": "markdown",
   "source": [
    "### Side effects\n",
    "You should not rely on side effects of the functions marked as `reactive`. You should take into account that:\n",
    "* if more than one changes of inputs happen before the output is updated, it may be recomputed only once\n",
    "* the value may not be recomputed at all, if the output variable is not used"
   ],
   "metadata": {
    "collapsed": false
   }
  },
  {
   "cell_type": "raw",
   "metadata": {},
   "source": []
  }
 ],
 "metadata": {
  "kernelspec": {
   "display_name": "Python 3",
   "language": "python",
   "name": "python3"
  },
  "language_info": {
   "codemirror_mode": {
    "name": "ipython",
    "version": 3
   },
   "file_extension": ".py",
   "mimetype": "text/x-python",
   "name": "python",
   "nbconvert_exporter": "python",
   "pygments_lexer": "ipython3",
   "version": "3.5.2"
  }
 },
 "nbformat": 4,
 "nbformat_minor": 1
}
